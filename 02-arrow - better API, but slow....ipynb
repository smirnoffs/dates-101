{
 "cells": [
  {
   "cell_type": "code",
   "execution_count": 3,
   "id": "incorporated-favorite",
   "metadata": {},
   "outputs": [
    {
     "name": "stdout",
     "output_type": "stream",
     "text": [
      "Requirement already satisfied: arrow in ./.venv/lib/python3.8/site-packages (0.17.0)\n",
      "Requirement already satisfied: python-dateutil>=2.7.0 in ./.venv/lib/python3.8/site-packages (from arrow) (2.8.1)\n",
      "Requirement already satisfied: six>=1.5 in ./.venv/lib/python3.8/site-packages (from python-dateutil>=2.7.0->arrow) (1.15.0)\n",
      "\u001b[33mWARNING: You are using pip version 20.1.1; however, version 20.3.3 is available.\n",
      "You should consider upgrading via the '/Users/ssv/dev/dates-101/.venv/bin/python3 -m pip install --upgrade pip' command.\u001b[0m\n"
     ]
    }
   ],
   "source": [
    "! pip install arrow\n",
    "import arrow"
   ]
  },
  {
   "cell_type": "code",
   "execution_count": 10,
   "id": "assisted-awareness",
   "metadata": {},
   "outputs": [],
   "source": [
    "timestamp = 1611061847"
   ]
  },
  {
   "cell_type": "code",
   "execution_count": 11,
   "id": "attractive-farming",
   "metadata": {},
   "outputs": [
    {
     "name": "stdout",
     "output_type": "stream",
     "text": [
      "2021-01-19T13:10:47+00:00\n"
     ]
    }
   ],
   "source": [
    "ts = arrow.get(timestamp)\n",
    "print(ts)"
   ]
  },
  {
   "cell_type": "code",
   "execution_count": 8,
   "id": "coordinated-circuit",
   "metadata": {},
   "outputs": [
    {
     "name": "stdout",
     "output_type": "stream",
     "text": [
      "2021-01-19T14:10:47+01:00\n"
     ]
    }
   ],
   "source": [
    "ts = arrow.get(timestamp).to('Europe/Berlin')\n",
    "print(ts)"
   ]
  },
  {
   "cell_type": "code",
   "execution_count": 9,
   "id": "ceramic-forestry",
   "metadata": {},
   "outputs": [
    {
     "name": "stdout",
     "output_type": "stream",
     "text": [
      "2021-01-19T18:40:47+05:30\n"
     ]
    }
   ],
   "source": [
    "ts = arrow.get(timestamp).to('Asia/Kolkata')\n",
    "print(ts)"
   ]
  },
  {
   "cell_type": "markdown",
   "id": "scenic-intellectual",
   "metadata": {},
   "source": [
    "## Humanize"
   ]
  },
  {
   "cell_type": "code",
   "execution_count": 12,
   "id": "pointed-radical",
   "metadata": {},
   "outputs": [
    {
     "data": {
      "text/plain": [
       "'37 minutes ago'"
      ]
     },
     "execution_count": 12,
     "metadata": {},
     "output_type": "execute_result"
    }
   ],
   "source": [
    "arrow.get(timestamp).humanize()"
   ]
  },
  {
   "cell_type": "code",
   "execution_count": 13,
   "id": "affecting-example",
   "metadata": {},
   "outputs": [
    {
     "data": {
      "text/plain": [
       "'vor 37 Minuten'"
      ]
     },
     "execution_count": 13,
     "metadata": {},
     "output_type": "execute_result"
    }
   ],
   "source": [
    "arrow.get(timestamp).humanize(locale='de_DE')"
   ]
  },
  {
   "cell_type": "markdown",
   "id": "defensive-martin",
   "metadata": {},
   "source": [
    "## Convert to Datetime"
   ]
  },
  {
   "cell_type": "code",
   "execution_count": 18,
   "id": "norwegian-culture",
   "metadata": {},
   "outputs": [
    {
     "name": "stdout",
     "output_type": "stream",
     "text": [
      "2021-01-19T13:10:47+00:00\n",
      "<class 'arrow.arrow.Arrow'>\n"
     ]
    }
   ],
   "source": [
    "t = arrow.get(\"2021-01-19T18:40:47+05:30\").to(\"UTC\")\n",
    "print(t)\n",
    "print(type(t))"
   ]
  },
  {
   "cell_type": "code",
   "execution_count": 19,
   "id": "american-apple",
   "metadata": {},
   "outputs": [
    {
     "name": "stdout",
     "output_type": "stream",
     "text": [
      "2021-01-19 14:10:47+01:00\n",
      "<class 'datetime.datetime'>\n"
     ]
    }
   ],
   "source": [
    "# Convert to datetime\n",
    "ts = arrow.get(timestamp).to('Europe/Berlin').datetime\n",
    "print(ts)\n",
    "print(type(ts))"
   ]
  },
  {
   "cell_type": "markdown",
   "id": "aware-hundred",
   "metadata": {},
   "source": [
    "## Floor and Ceiling"
   ]
  },
  {
   "cell_type": "code",
   "execution_count": 31,
   "id": "hollywood-photographer",
   "metadata": {},
   "outputs": [
    {
     "data": {
      "text/plain": [
       "<Arrow [2021-01-01T00:59:59.999999+01:00]>"
      ]
     },
     "execution_count": 31,
     "metadata": {},
     "output_type": "execute_result"
    }
   ],
   "source": [
    "# Beginning of the current hour\n",
    "\n",
    "arrow.utcnow().floor('hour').to('Europe/Berlin')\n",
    "\n",
    "# End of the previous year\n",
    "\n",
    "arrow.utcnow().shift(years=-1).ceil('year').to('Europe/Berlin')"
   ]
  },
  {
   "cell_type": "markdown",
   "id": "stock-british",
   "metadata": {},
   "source": [
    "Check the API here https://arrow.readthedocs.io/en/stable/"
   ]
  }
 ],
 "metadata": {
  "kernelspec": {
   "display_name": "Python 3",
   "language": "python",
   "name": "python3"
  },
  "language_info": {
   "codemirror_mode": {
    "name": "ipython",
    "version": 3
   },
   "file_extension": ".py",
   "mimetype": "text/x-python",
   "name": "python",
   "nbconvert_exporter": "python",
   "pygments_lexer": "ipython3",
   "version": "3.8.5"
  }
 },
 "nbformat": 4,
 "nbformat_minor": 5
}
