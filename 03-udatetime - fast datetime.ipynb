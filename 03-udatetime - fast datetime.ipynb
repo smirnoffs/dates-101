{
 "cells": [
  {
   "cell_type": "code",
   "execution_count": 1,
   "id": "durable-plant",
   "metadata": {},
   "outputs": [
    {
     "name": "stdout",
     "output_type": "stream",
     "text": [
      "Collecting udatetime\n",
      "  Downloading udatetime-0.0.16.tar.gz (13 kB)\n",
      "Using legacy setup.py install for udatetime, since package 'wheel' is not installed.\n",
      "Installing collected packages: udatetime\n",
      "    Running setup.py install for udatetime ... \u001b[?25ldone\n",
      "\u001b[?25hSuccessfully installed udatetime-0.0.16\n",
      "\u001b[33mWARNING: You are using pip version 20.1.1; however, version 20.3.3 is available.\n",
      "You should consider upgrading via the '/Users/ssv/dev/dates-101/.venv/bin/python3 -m pip install --upgrade pip' command.\u001b[0m\n"
     ]
    }
   ],
   "source": [
    "!pip install udatetime"
   ]
  },
  {
   "cell_type": "markdown",
   "id": "passive-synthetic",
   "metadata": {},
   "source": [
    "- `udatetime` works with time aware datetime objects\n",
    "- it is multiple times faster than `datetime` library and 10+ times faster in parsing than `arrow` \n",
    "\n",
    "Page on GitHub https://github.com/freach/udatetime"
   ]
  },
  {
   "cell_type": "code",
   "execution_count": 4,
   "id": "opponent-fifth",
   "metadata": {},
   "outputs": [],
   "source": [
    "import udatetime"
   ]
  },
  {
   "cell_type": "code",
   "execution_count": 5,
   "id": "mighty-night",
   "metadata": {},
   "outputs": [
    {
     "data": {
      "text/plain": [
       "datetime.datetime(2016, 7, 15, 12, 33, 20, 123000, tzinfo=+02:00)"
      ]
     },
     "execution_count": 5,
     "metadata": {},
     "output_type": "execute_result"
    }
   ],
   "source": [
    "udatetime.from_string(\"2016-07-15T12:33:20.123000+02:00\")"
   ]
  },
  {
   "cell_type": "code",
   "execution_count": 6,
   "id": "signal-diagnosis",
   "metadata": {},
   "outputs": [
    {
     "data": {
      "text/plain": [
       "'2016-07-15T12:33:20.123000+02:00'"
      ]
     },
     "execution_count": 6,
     "metadata": {},
     "output_type": "execute_result"
    }
   ],
   "source": [
    "udatetime.to_string(udatetime.from_string(\"2016-07-15T12:33:20.123000+02:00\"))"
   ]
  },
  {
   "cell_type": "code",
   "execution_count": 7,
   "id": "nervous-custody",
   "metadata": {},
   "outputs": [
    {
     "data": {
      "text/plain": [
       "datetime.datetime(2021, 1, 19, 15, 4, 30, 199588, tzinfo=+01:00)"
      ]
     },
     "execution_count": 7,
     "metadata": {},
     "output_type": "execute_result"
    }
   ],
   "source": [
    "udatetime.now()"
   ]
  },
  {
   "cell_type": "code",
   "execution_count": 8,
   "id": "earlier-afternoon",
   "metadata": {},
   "outputs": [
    {
     "data": {
      "text/plain": [
       "datetime.datetime(2021, 1, 19, 14, 6, 49, 103750, tzinfo=+00:00)"
      ]
     },
     "execution_count": 8,
     "metadata": {},
     "output_type": "execute_result"
    }
   ],
   "source": [
    "udatetime.utcnow()"
   ]
  },
  {
   "cell_type": "code",
   "execution_count": 10,
   "id": "right-chart",
   "metadata": {},
   "outputs": [
    {
     "data": {
      "text/plain": [
       "datetime.datetime(2021, 1, 19, 14, 10, 47, tzinfo=+01:00)"
      ]
     },
     "execution_count": 10,
     "metadata": {},
     "output_type": "execute_result"
    }
   ],
   "source": [
    "udatetime.fromtimestamp(1611061847)"
   ]
  }
 ],
 "metadata": {
  "kernelspec": {
   "display_name": "Python 3",
   "language": "python",
   "name": "python3"
  },
  "language_info": {
   "codemirror_mode": {
    "name": "ipython",
    "version": 3
   },
   "file_extension": ".py",
   "mimetype": "text/x-python",
   "name": "python",
   "nbconvert_exporter": "python",
   "pygments_lexer": "ipython3",
   "version": "3.8.5"
  }
 },
 "nbformat": 4,
 "nbformat_minor": 5
}
