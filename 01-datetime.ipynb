{
 "cells": [
  {
   "cell_type": "markdown",
   "id": "covered-summit",
   "metadata": {},
   "source": [
    "## datetime - date and time types in standard library\n",
    "\n",
    "Date and time can be timezone aware and \"naive\".\n",
    "\n",
    "Dates can be compared, but only if both are timezone aware or both are naive.  \n",
    "\n"
   ]
  },
  {
   "cell_type": "code",
   "execution_count": 9,
   "id": "verbal-creation",
   "metadata": {},
   "outputs": [],
   "source": [
    "from datetime import (\n",
    "    datetime,  # Object containing date and time\n",
    "    time,      # Object containing only time\n",
    "    date,      # Object containing only date\n",
    "    tzinfo,    # Timezone info\n",
    "    timezone,  # Simple Timezones with a fixed offset from UTC\n",
    "    timedelta, # Object used for time arithmetics\n",
    ")"
   ]
  },
  {
   "cell_type": "markdown",
   "id": "junior-california",
   "metadata": {},
   "source": [
    "## Datetime"
   ]
  },
  {
   "cell_type": "code",
   "execution_count": 2,
   "id": "scenic-thompson",
   "metadata": {},
   "outputs": [
    {
     "name": "stdout",
     "output_type": "stream",
     "text": [
      "td1=datetime.datetime(2019, 2, 28, 0, 0)\n",
      "td1.tzinfo=None\n",
      "td2=datetime.datetime(2020, 2, 29, 0, 0)\n",
      "td2.tzinfo=None\n",
      "td1<td2=True\n"
     ]
    }
   ],
   "source": [
    "# Naive datetime\n",
    "td1 = datetime(year=2019, month=2, day=28)\n",
    "print(f\"{td1=}\")\n",
    "print(f\"{td1.tzinfo=}\")\n",
    "\n",
    "td2 = datetime(year=2020, month=2, day=29)\n",
    "print(f\"{td2=}\")\n",
    "print(f\"{td2.tzinfo=}\")\n",
    "\n",
    "print(f\"{td1<td2=}\")"
   ]
  },
  {
   "cell_type": "code",
   "execution_count": 3,
   "id": "tutorial-label",
   "metadata": {},
   "outputs": [
    {
     "ename": "TypeError",
     "evalue": "can't compare offset-naive and offset-aware datetimes",
     "output_type": "error",
     "traceback": [
      "\u001b[0;31m---------------------------------------------------------------------------\u001b[0m",
      "\u001b[0;31mTypeError\u001b[0m                                 Traceback (most recent call last)",
      "\u001b[0;32m<ipython-input-3-ec98daebe15d>\u001b[0m in \u001b[0;36m<module>\u001b[0;34m\u001b[0m\n\u001b[1;32m      4\u001b[0m \u001b[0mtd1\u001b[0m \u001b[0;34m=\u001b[0m \u001b[0mdatetime\u001b[0m\u001b[0;34m(\u001b[0m\u001b[0myear\u001b[0m\u001b[0;34m=\u001b[0m\u001b[0;36m2019\u001b[0m\u001b[0;34m,\u001b[0m \u001b[0mmonth\u001b[0m\u001b[0;34m=\u001b[0m\u001b[0;36m2\u001b[0m\u001b[0;34m,\u001b[0m \u001b[0mday\u001b[0m\u001b[0;34m=\u001b[0m\u001b[0;36m28\u001b[0m\u001b[0;34m,\u001b[0m \u001b[0mtzinfo\u001b[0m\u001b[0;34m=\u001b[0m\u001b[0mCET\u001b[0m\u001b[0;34m)\u001b[0m\u001b[0;34m\u001b[0m\u001b[0;34m\u001b[0m\u001b[0m\n\u001b[1;32m      5\u001b[0m \u001b[0mtd2\u001b[0m \u001b[0;34m=\u001b[0m \u001b[0mdatetime\u001b[0m\u001b[0;34m(\u001b[0m\u001b[0myear\u001b[0m\u001b[0;34m=\u001b[0m\u001b[0;36m2020\u001b[0m\u001b[0;34m,\u001b[0m \u001b[0mmonth\u001b[0m\u001b[0;34m=\u001b[0m\u001b[0;36m2\u001b[0m\u001b[0;34m,\u001b[0m \u001b[0mday\u001b[0m\u001b[0;34m=\u001b[0m\u001b[0;36m29\u001b[0m\u001b[0;34m)\u001b[0m\u001b[0;34m\u001b[0m\u001b[0;34m\u001b[0m\u001b[0m\n\u001b[0;32m----> 6\u001b[0;31m \u001b[0mprint\u001b[0m\u001b[0;34m(\u001b[0m\u001b[0;34mf\"{td1<td2=}\"\u001b[0m\u001b[0;34m)\u001b[0m\u001b[0;34m\u001b[0m\u001b[0;34m\u001b[0m\u001b[0m\n\u001b[0m",
      "\u001b[0;31mTypeError\u001b[0m: can't compare offset-naive and offset-aware datetimes"
     ]
    }
   ],
   "source": [
    "# Timezone aware datetime cannot be compared with naive datetime\n",
    "CET = timezone(timedelta(hours=1))\n",
    "\n",
    "td1 = datetime(year=2019, month=2, day=28, tzinfo=CET)\n",
    "td2 = datetime(year=2020, month=2, day=29)\n",
    "print(f\"{td1<td2=}\")\n"
   ]
  },
  {
   "cell_type": "code",
   "execution_count": 4,
   "id": "registered-spice",
   "metadata": {},
   "outputs": [
    {
     "name": "stdout",
     "output_type": "stream",
     "text": [
      "td1=datetime.datetime(2019, 2, 28, 23, 11, tzinfo=datetime.timezone(datetime.timedelta(seconds=3600)))\n",
      "td1.tzinfo=datetime.timezone(datetime.timedelta(seconds=3600))\n",
      "td2=datetime.datetime(2020, 2, 29, 0, 0, tzinfo=datetime.timezone(datetime.timedelta(seconds=3600)))\n",
      "td2.tzinfo=datetime.timezone(datetime.timedelta(seconds=3600))\n",
      "td1<td2=True\n"
     ]
    }
   ],
   "source": [
    "# Timezone aware datetime cannot be compared with naive datetime\n",
    "CET = timezone(timedelta(hours=1))\n",
    "\n",
    "td1 = datetime(year=2019, month=2, day=28, hour=23, minute=11, tzinfo=CET)\n",
    "td2 = datetime(year=2020, month=2, day=29, tzinfo=CET)\n",
    "print(f\"{td1=}\")\n",
    "print(f\"{td1.tzinfo=}\")\n",
    "print(f\"{td2=}\")\n",
    "print(f\"{td2.tzinfo=}\")\n",
    "print(f\"{td1<td2=}\")\n",
    "\n"
   ]
  },
  {
   "cell_type": "markdown",
   "id": "entire-fields",
   "metadata": {},
   "source": [
    "There is no solution for daylight savings time in python standard library. You have to use 3-rd party `pytz` and `dateutil` library for that. "
   ]
  },
  {
   "cell_type": "code",
   "execution_count": 5,
   "id": "celtic-charleston",
   "metadata": {},
   "outputs": [
    {
     "name": "stdout",
     "output_type": "stream",
     "text": [
      "Requirement already satisfied: pytz in ./.venv/lib/python3.8/site-packages (2020.5)\n",
      "\u001b[33mWARNING: You are using pip version 20.1.1; however, version 20.3.3 is available.\n",
      "You should consider upgrading via the '/Users/ssv/dev/dates-101/.venv/bin/python3 -m pip install --upgrade pip' command.\u001b[0m\n"
     ]
    }
   ],
   "source": [
    "!pip install pytz # it includes `python-dateutil`"
   ]
  },
  {
   "cell_type": "code",
   "execution_count": 27,
   "id": "interstate-ethics",
   "metadata": {},
   "outputs": [
    {
     "name": "stdout",
     "output_type": "stream",
     "text": [
      "dt_local=datetime.datetime(2015, 8, 21, 15, 35, tzinfo=tzfile('/etc/localtime'))\n",
      "dt_india=datetime.datetime(2015, 8, 21, 10, 1, tzinfo=tzfile('/usr/share/zoneinfo/Asia/Kolkata'))\n",
      "dt_india<dt_local=True\n"
     ]
    }
   ],
   "source": [
    "from dateutil import tz\n",
    "\n",
    "local = tz.gettz()\n",
    "IST = tz.gettz('Asia/Kolkata') # India Standard Time\n",
    "\n",
    "dt_local = datetime(2015, 8, 21, 15, 35, tzinfo=local)\n",
    "dt_india = datetime(2015, 8, 21, 10, 1, tzinfo=IST)\n",
    "\n",
    "print(f\"{dt_local=}\")\n",
    "print(f\"{dt_india=}\")\n",
    "\n",
    "print(f\"{dt_india<dt_local=}\")"
   ]
  },
  {
   "cell_type": "markdown",
   "id": "crude-convert",
   "metadata": {},
   "source": [
    "## Timedelta \n",
    "\n",
    "Timedelta object represents delta between time objects and can be used for time arithmetics\n",
    "\n",
    "Only *days*, *seconds* and *microseconds* are stored internally. Arguments are converted to those units:\n",
    "\n",
    "- A millisecond is converted to 1000 microseconds.\n",
    "- A minute is converted to 60 seconds.\n",
    "- An hour is converted to 3600 seconds.\n",
    "- A week is converted to 7 days.\n",
    "\n",
    "You can still use weeks, hours, minites and milliseconds in the timedelta constructor."
   ]
  },
  {
   "cell_type": "code",
   "execution_count": 7,
   "id": "characteristic-money",
   "metadata": {},
   "outputs": [
    {
     "name": "stdout",
     "output_type": "stream",
     "text": [
      "dtd_local_india=datetime.timedelta(seconds=32640)\n"
     ]
    }
   ],
   "source": [
    "dtd_local_india = dt_local - dt_india\n",
    "print(f\"{dtd_local_india=}\")"
   ]
  },
  {
   "cell_type": "code",
   "execution_count": 8,
   "id": "million-vinyl",
   "metadata": {},
   "outputs": [
    {
     "name": "stdout",
     "output_type": "stream",
     "text": [
      "td=datetime.timedelta(seconds=43440, microseconds=14002)\n",
      "td.days=0, td.seconds=43440, td.microseconds=14002\n",
      "2015-08-22 03:39:00.014002+02:00\n"
     ]
    }
   ],
   "source": [
    "td = timedelta(hours=12, minutes=4, milliseconds=14, microseconds=2)\n",
    "print(f\"{td=}\")\n",
    "print(f\"{td.days=}, {td.seconds=}, {td.microseconds=}\")\n",
    "print(f\"{dt_local+td}\")"
   ]
  },
  {
   "cell_type": "code",
   "execution_count": 9,
   "id": "norwegian-harris",
   "metadata": {},
   "outputs": [
    {
     "data": {
      "text/plain": [
       "43440.014002"
      ]
     },
     "execution_count": 9,
     "metadata": {},
     "output_type": "execute_result"
    }
   ],
   "source": [
    "td.total_seconds()"
   ]
  },
  {
   "cell_type": "markdown",
   "id": "rubber-shift",
   "metadata": {},
   "source": [
    "## Unix Timestamp\n",
    "*aka Epoch time, POSIX time, timestamp*\n",
    "\n",
    "Unix time - number of seconds since 1.01.1970 00:00:00 UTC.\n",
    "\n",
    "\n",
    "*Note*: at 03:14:08 UTC on Tuesday, 19 January 2038, 32-bit versions of the Unix timestamp will cease to work, as it will overflow the largest value that can be held in a signed 32-bit number.\n",
    "\n",
    "Unix time allows to ignore time zones and have all the arighmetics without intermediat types.\n"
   ]
  },
  {
   "cell_type": "code",
   "execution_count": 18,
   "id": "equivalent-alloy",
   "metadata": {},
   "outputs": [
    {
     "name": "stdout",
     "output_type": "stream",
     "text": [
      "nowt=1611061847.941817\n",
      "now_dt=1611061847.941866\n"
     ]
    }
   ],
   "source": [
    "# Now in timestamps\n",
    "import time\n",
    "nowt = time.time()\n",
    "\n",
    "from datetime import datetime\n",
    "now_dt = datetime.now().timestamp()\n",
    "\n",
    "print(f\"{nowt=}\")\n",
    "print(f\"{now_dt=}\")"
   ]
  },
  {
   "cell_type": "code",
   "execution_count": 12,
   "id": "thick-three",
   "metadata": {},
   "outputs": [
    {
     "name": "stdout",
     "output_type": "stream",
     "text": [
      "dt=datetime.datetime(2021, 1, 19, 14, 10, 47)\n",
      "dt.tzinfo=None\n"
     ]
    }
   ],
   "source": [
    "# Let's convert timestamp back to the datetime. \n",
    "\n",
    "ts = 1611061847\n",
    "\n",
    "# tz's local time from POSIX timestamp\n",
    "dt = datetime.fromtimestamp(ts)\n",
    "print(f\"{dt=}\")\n",
    "\n",
    "# Attention! The datetime object doesn't have a timezone info in this case! \n",
    "# You should avoid using this datetime, local time are different on different servers.\n",
    "print(f\"{dt.tzinfo=}\")"
   ]
  },
  {
   "cell_type": "code",
   "execution_count": 35,
   "id": "controversial-exchange",
   "metadata": {},
   "outputs": [
    {
     "name": "stdout",
     "output_type": "stream",
     "text": [
      "localized_ts=datetime.datetime(2021, 1, 19, 14, 10, 47, tzinfo=tzfile('/etc/localtime'))\n",
      "2021-01-19T14:10:47+01:00\n"
     ]
    }
   ],
   "source": [
    "# Safe way is to add a local timezone\n",
    "from dateutil import tz\n",
    "\n",
    "local = tz.gettz()\n",
    "localized_ts = datetime.fromtimestamp(ts).astimezone(local)\n",
    "print(f\"{localized_ts=}\")\n",
    "print(localized_ts.isoformat())"
   ]
  },
  {
   "cell_type": "code",
   "execution_count": 36,
   "id": "removed-award",
   "metadata": {},
   "outputs": [
    {
     "name": "stdout",
     "output_type": "stream",
     "text": [
      "localized_ts_ist=datetime.datetime(2021, 1, 19, 18, 40, 47, tzinfo=tzfile('/usr/share/zoneinfo/Asia/Kolkata'))\n",
      "2021-01-19T18:40:47+05:30\n"
     ]
    }
   ],
   "source": [
    "# How to show time in IST timezone?\n",
    "\n",
    "localized_ts_ist = localized_ts.astimezone(IST)\n",
    "print(f\"{localized_ts_ist=}\")\n",
    "print(localized_ts_ist.isoformat())"
   ]
  }
 ],
 "metadata": {
  "kernelspec": {
   "display_name": "Python 3",
   "language": "python",
   "name": "python3"
  },
  "language_info": {
   "codemirror_mode": {
    "name": "ipython",
    "version": 3
   },
   "file_extension": ".py",
   "mimetype": "text/x-python",
   "name": "python",
   "nbconvert_exporter": "python",
   "pygments_lexer": "ipython3",
   "version": "3.8.5"
  }
 },
 "nbformat": 4,
 "nbformat_minor": 5
}
